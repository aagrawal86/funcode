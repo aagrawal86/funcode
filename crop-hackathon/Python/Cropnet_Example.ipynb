{
  "nbformat": 4,
  "nbformat_minor": 0,
  "metadata": {
    "colab": {
      "name": "Cropnet_Example.ipynb",
      "provenance": []
    },
    "kernelspec": {
      "name": "python3",
      "display_name": "Python 3"
    },
    "accelerator": "GPU"
  },
  "cells": [
    {
      "cell_type": "code",
      "metadata": {
        "id": "gSk102Jll6rP"
      },
      "source": [
        "!pip install tflite-model-maker  &> /dev/null\n",
        "!pip install tensorflow-datasets -U  &> /dev/null"
      ],
      "execution_count": 1,
      "outputs": []
    },
    {
      "cell_type": "code",
      "metadata": {
        "id": "Qo5jBFm2nLPL"
      },
      "source": [
        "import tensorflow_datasets as tfds\n",
        "from tflite_model_maker import model_spec\n",
        "from tflite_model_maker import image_classifier\n",
        "from tflite_model_maker import ImageClassifierDataLoader"
      ],
      "execution_count": 2,
      "outputs": []
    },
    {
      "cell_type": "code",
      "metadata": {
        "id": "vK6OJj8koiEk"
      },
      "source": [
        "def get_dataloader(ds, size, labels):\n",
        "  ds = ds.map(lambda a: (a['image'], a['label']))\n",
        "  return ImageClassifierDataLoader(ds, size, labels)"
      ],
      "execution_count": 3,
      "outputs": []
    },
    {
      "cell_type": "code",
      "metadata": {
        "id": "wqJvm5uvnuTs"
      },
      "source": [
        "batch_size = 16\n",
        "img_height = 224\n",
        "img_width = 224\n",
        "#SPLITS = ['train[0%:80%]', 'train[80%:90%]', 'train[90%:100%]']\n",
        "SPLITS = ['train', 'test', 'validation']\n",
        "(ds_train, ds_validation, ds_test), ds_info = tfds.load(\n",
        "    name = 'beans', \n",
        "    split = SPLITS,\n",
        "    with_info = True)\n",
        "label_names = ds_info.features['label'].names\n",
        "size = ds_info.splits['train'].num_examples\n",
        "val_size = ds_info.splits['validation'].num_examples\n",
        "test_size = ds_info.splits['test'].num_examples\n",
        "train_data = get_dataloader(ds_train, size, label_names)\n",
        "validation_data = get_dataloader(ds_validation, val_size, label_names)\n",
        "test_data = get_dataloader(ds_test, test_size, label_names)"
      ],
      "execution_count": 15,
      "outputs": []
    },
    {
      "cell_type": "code",
      "metadata": {
        "id": "zB5mUIRJmuNZ"
      },
      "source": [
        "model_handle = 'https://tfhub.dev/google/cropnet/feature_vector/cassava_disease_V1/1'\n",
        "cassava_spec = model_spec.ImageModelSpec(uri=model_handle)"
      ],
      "execution_count": 16,
      "outputs": []
    },
    {
      "cell_type": "code",
      "metadata": {
        "colab": {
          "base_uri": "https://localhost:8080/"
        },
        "id": "hEtdsZ80nmHL",
        "outputId": "b517e352-48ac-4b8a-bd9c-965f7f0b965b"
      },
      "source": [
        "modelMM = image_classifier.create(train_data, model_spec=cassava_spec, \n",
        "                                  epochs=5, \n",
        "                                  train_whole_model=True, \n",
        "                                  validation_data=validation_data)"
      ],
      "execution_count": 17,
      "outputs": [
        {
          "output_type": "stream",
          "text": [
            "INFO:tensorflow:Retraining the models...\n"
          ],
          "name": "stdout"
        },
        {
          "output_type": "stream",
          "text": [
            "INFO:tensorflow:Retraining the models...\n"
          ],
          "name": "stderr"
        },
        {
          "output_type": "stream",
          "text": [
            "Model: \"sequential_3\"\n",
            "_________________________________________________________________\n",
            "Layer (type)                 Output Shape              Param #   \n",
            "=================================================================\n",
            "hub_keras_layer_v1v2_3 (HubK (None, 1280)              4234118   \n",
            "_________________________________________________________________\n",
            "dropout_3 (Dropout)          (None, 1280)              0         \n",
            "_________________________________________________________________\n",
            "dense_3 (Dense)              (None, 3)                 3843      \n",
            "=================================================================\n",
            "Total params: 4,237,961\n",
            "Trainable params: 4,213,561\n",
            "Non-trainable params: 24,400\n",
            "_________________________________________________________________\n",
            "None\n",
            "Epoch 1/5\n",
            "32/32 [==============================] - 19s 345ms/step - loss: 1.1238 - accuracy: 0.6703 - val_loss: 1.1379 - val_accuracy: 0.8438\n",
            "Epoch 2/5\n",
            "32/32 [==============================] - 9s 275ms/step - loss: 0.6137 - accuracy: 0.9200 - val_loss: 0.8496 - val_accuracy: 0.8828\n",
            "Epoch 3/5\n",
            "32/32 [==============================] - 8s 265ms/step - loss: 0.4311 - accuracy: 0.9827 - val_loss: 0.4408 - val_accuracy: 0.9453\n",
            "Epoch 4/5\n",
            "32/32 [==============================] - 8s 264ms/step - loss: 0.3667 - accuracy: 0.9909 - val_loss: 0.4148 - val_accuracy: 0.9453\n",
            "Epoch 5/5\n",
            "32/32 [==============================] - 8s 258ms/step - loss: 0.3430 - accuracy: 0.9976 - val_loss: 0.4174 - val_accuracy: 0.9453\n"
          ],
          "name": "stdout"
        }
      ]
    },
    {
      "cell_type": "code",
      "metadata": {
        "colab": {
          "base_uri": "https://localhost:8080/"
        },
        "id": "NpJS0cjRPzFv",
        "outputId": "2f478d79-2342-4542-b82b-feed3477024a"
      },
      "source": [
        "modelMM.evaluate(validation_data)"
      ],
      "execution_count": 18,
      "outputs": [
        {
          "output_type": "stream",
          "text": [
            "4/4 [==============================] - 1s 179ms/step - loss: 0.4174 - accuracy: 0.9453\n"
          ],
          "name": "stdout"
        },
        {
          "output_type": "execute_result",
          "data": {
            "text/plain": [
              "[0.4173751473426819, 0.9453125]"
            ]
          },
          "metadata": {
            "tags": []
          },
          "execution_count": 18
        }
      ]
    },
    {
      "cell_type": "code",
      "metadata": {
        "colab": {
          "base_uri": "https://localhost:8080/"
        },
        "id": "d5UAOqePr4wj",
        "outputId": "b59137a5-8df5-4bbe-f1c6-cb4a79cc0b00"
      },
      "source": [
        "modelMM.export(export_dir='./cropmodel/', tflite_filename='cassava_model.tflite')"
      ],
      "execution_count": null,
      "outputs": [
        {
          "output_type": "stream",
          "text": [
            "INFO:tensorflow:Assets written to: /tmp/tmp5x8bbniy/assets\n"
          ],
          "name": "stdout"
        },
        {
          "output_type": "stream",
          "text": [
            "INFO:tensorflow:Assets written to: /tmp/tmp5x8bbniy/assets\n"
          ],
          "name": "stderr"
        }
      ]
    }
  ]
}