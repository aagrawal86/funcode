{
  "nbformat": 4,
  "nbformat_minor": 0,
  "metadata": {
    "colab": {
      "name": "Beans-Modelmaker.ipynb",
      "provenance": []
    },
    "kernelspec": {
      "name": "python3",
      "display_name": "Python 3"
    },
    "accelerator": "GPU"
  },
  "cells": [
    {
      "cell_type": "code",
      "metadata": {
        "id": "Cm2FTfso6JWy"
      },
      "source": [
        "!pip install -q tflite-model-maker  &> /dev/null\n",
        "# If you get an error about TFJS versions, you can safey ignore it"
      ],
      "execution_count": 1,
      "outputs": []
    },
    {
      "cell_type": "code",
      "metadata": {
        "id": "XtxiUeZEiXpt"
      },
      "source": [
        "import numpy as np\n",
        "\n",
        "import tensorflow as tf\n",
        "assert tf.__version__.startswith('2')\n",
        "\n",
        "from tflite_model_maker import configs\n",
        "from tflite_model_maker import ExportFormat\n",
        "from tflite_model_maker import image_classifier\n",
        "from tflite_model_maker import ImageClassifierDataLoader\n",
        "from tflite_model_maker import model_spec\n",
        "\n",
        "import matplotlib.pyplot as plt\n",
        "import os"
      ],
      "execution_count": 2,
      "outputs": []
    },
    {
      "cell_type": "code",
      "metadata": {
        "cellView": "form",
        "id": "3jz5x0JoskPv"
      },
      "source": [
        "image_path = tf.keras.utils.get_file('train.zip', 'https://storage.googleapis.com/ibeans/train.zip', extract=True)\n",
        "image_path = os.path.join(os.path.dirname(image_path), 'train')\n",
        "\n",
        "image_path = tf.keras.utils.get_file('train.zip', 'https://storage.googleapis.com/ibeans/validation.zip', extract=True)\n",
        "image_path = os.path.join(os.path.dirname(image_path), 'train')"
      ],
      "execution_count": 22,
      "outputs": []
    },
    {
      "cell_type": "code",
      "metadata": {
        "id": "Qb2V4vWGGm1e",
        "colab": {
          "base_uri": "https://localhost:8080/"
        },
        "outputId": "86a423af-a420-4291-8f3d-c8062195c822"
      },
      "source": [
        "print(image_path)"
      ],
      "execution_count": 23,
      "outputs": [
        {
          "output_type": "stream",
          "text": [
            "/root/.keras/datasets/train\n"
          ],
          "name": "stdout"
        }
      ]
    },
    {
      "cell_type": "code",
      "metadata": {
        "id": "gZsFykuOHGmy",
        "colab": {
          "base_uri": "https://localhost:8080/"
        },
        "outputId": "b65ea457-f502-4aba-db3e-9ccbbd648ba6"
      },
      "source": [
        "os.listdir('/root/.keras/datasets/train/')"
      ],
      "execution_count": 24,
      "outputs": [
        {
          "output_type": "execute_result",
          "data": {
            "text/plain": [
              "['bean_rust', 'healthy', 'angular_leaf_spot']"
            ]
          },
          "metadata": {
            "tags": []
          },
          "execution_count": 24
        }
      ]
    },
    {
      "cell_type": "code",
      "metadata": {
        "id": "ARVFZnm7wwAI"
      },
      "source": [
        "# Remove a corrupt file from the dataset\n",
        "os.remove('/root/.keras/datasets/train/healthy/healthy_train.120tore')"
      ],
      "execution_count": 25,
      "outputs": []
    },
    {
      "cell_type": "code",
      "metadata": {
        "id": "lANoNS_gtdH1",
        "colab": {
          "base_uri": "https://localhost:8080/"
        },
        "outputId": "9c56ca51-0b1b-4a12-cb26-cd304be912a8"
      },
      "source": [
        "data = ImageClassifierDataLoader.from_folder(image_path)\n",
        "train_data, test_data = data.split(0.9)"
      ],
      "execution_count": 26,
      "outputs": [
        {
          "output_type": "stream",
          "text": [
            "INFO:tensorflow:Load image with size: 1034, num_label: 3, labels: angular_leaf_spot, bean_rust, healthy.\n"
          ],
          "name": "stdout"
        },
        {
          "output_type": "stream",
          "text": [
            "INFO:tensorflow:Load image with size: 1034, num_label: 3, labels: angular_leaf_spot, bean_rust, healthy.\n"
          ],
          "name": "stderr"
        }
      ]
    },
    {
      "cell_type": "code",
      "metadata": {
        "id": "yRXMZbrwtyRD",
        "colab": {
          "base_uri": "https://localhost:8080/"
        },
        "outputId": "9fb5af2b-11c2-4181-fbce-8e95f8d56db0"
      },
      "source": [
        "model = image_classifier.create(train_data, validation_data=test_data, epochs=20)"
      ],
      "execution_count": 29,
      "outputs": [
        {
          "output_type": "stream",
          "text": [
            "INFO:tensorflow:Retraining the models...\n"
          ],
          "name": "stdout"
        },
        {
          "output_type": "stream",
          "text": [
            "INFO:tensorflow:Retraining the models...\n"
          ],
          "name": "stderr"
        },
        {
          "output_type": "stream",
          "text": [
            "Model: \"sequential_4\"\n",
            "_________________________________________________________________\n",
            "Layer (type)                 Output Shape              Param #   \n",
            "=================================================================\n",
            "hub_keras_layer_v1v2_4 (HubK (None, 1280)              3413024   \n",
            "_________________________________________________________________\n",
            "dropout_4 (Dropout)          (None, 1280)              0         \n",
            "_________________________________________________________________\n",
            "dense_4 (Dense)              (None, 3)                 3843      \n",
            "=================================================================\n",
            "Total params: 3,416,867\n",
            "Trainable params: 3,843\n",
            "Non-trainable params: 3,413,024\n",
            "_________________________________________________________________\n",
            "None\n",
            "Epoch 1/20\n",
            "29/29 [==============================] - 13s 387ms/step - loss: 1.0274 - accuracy: 0.4992 - val_loss: 0.6025 - val_accuracy: 0.8125\n",
            "Epoch 2/20\n",
            "29/29 [==============================] - 11s 374ms/step - loss: 0.6419 - accuracy: 0.8060 - val_loss: 0.5093 - val_accuracy: 0.9167\n",
            "Epoch 3/20\n",
            "29/29 [==============================] - 11s 394ms/step - loss: 0.5652 - accuracy: 0.8462 - val_loss: 0.4935 - val_accuracy: 0.9375\n",
            "Epoch 4/20\n",
            "29/29 [==============================] - 12s 414ms/step - loss: 0.5290 - accuracy: 0.8697 - val_loss: 0.4825 - val_accuracy: 0.9479\n",
            "Epoch 5/20\n",
            "29/29 [==============================] - 10s 358ms/step - loss: 0.5015 - accuracy: 0.8869 - val_loss: 0.4762 - val_accuracy: 0.9271\n",
            "Epoch 6/20\n",
            "29/29 [==============================] - 11s 392ms/step - loss: 0.4827 - accuracy: 0.9063 - val_loss: 0.4671 - val_accuracy: 0.9271\n",
            "Epoch 7/20\n",
            "29/29 [==============================] - 10s 357ms/step - loss: 0.4710 - accuracy: 0.9085 - val_loss: 0.4654 - val_accuracy: 0.9271\n",
            "Epoch 8/20\n",
            "29/29 [==============================] - 9s 309ms/step - loss: 0.4877 - accuracy: 0.9111 - val_loss: 0.4638 - val_accuracy: 0.9271\n",
            "Epoch 9/20\n",
            "29/29 [==============================] - 11s 387ms/step - loss: 0.4727 - accuracy: 0.9280 - val_loss: 0.4628 - val_accuracy: 0.9271\n",
            "Epoch 10/20\n",
            "29/29 [==============================] - 10s 339ms/step - loss: 0.4662 - accuracy: 0.9211 - val_loss: 0.4608 - val_accuracy: 0.9271\n",
            "Epoch 11/20\n",
            "29/29 [==============================] - 10s 355ms/step - loss: 0.4608 - accuracy: 0.9309 - val_loss: 0.4508 - val_accuracy: 0.9375\n",
            "Epoch 12/20\n",
            "29/29 [==============================] - 9s 331ms/step - loss: 0.4499 - accuracy: 0.9425 - val_loss: 0.4620 - val_accuracy: 0.9062\n",
            "Epoch 13/20\n",
            "29/29 [==============================] - 10s 352ms/step - loss: 0.4446 - accuracy: 0.9414 - val_loss: 0.4566 - val_accuracy: 0.9271\n",
            "Epoch 14/20\n",
            "29/29 [==============================] - 9s 333ms/step - loss: 0.4497 - accuracy: 0.9315 - val_loss: 0.4468 - val_accuracy: 0.9271\n",
            "Epoch 15/20\n",
            "29/29 [==============================] - 10s 358ms/step - loss: 0.4346 - accuracy: 0.9557 - val_loss: 0.4446 - val_accuracy: 0.9271\n",
            "Epoch 16/20\n",
            "29/29 [==============================] - 10s 348ms/step - loss: 0.4379 - accuracy: 0.9506 - val_loss: 0.4505 - val_accuracy: 0.9271\n",
            "Epoch 17/20\n",
            "29/29 [==============================] - 10s 349ms/step - loss: 0.4469 - accuracy: 0.9343 - val_loss: 0.4452 - val_accuracy: 0.9167\n",
            "Epoch 18/20\n",
            "29/29 [==============================] - 10s 343ms/step - loss: 0.4348 - accuracy: 0.9512 - val_loss: 0.4461 - val_accuracy: 0.9167\n",
            "Epoch 19/20\n",
            "29/29 [==============================] - 10s 351ms/step - loss: 0.4297 - accuracy: 0.9529 - val_loss: 0.4493 - val_accuracy: 0.9167\n",
            "Epoch 20/20\n",
            "29/29 [==============================] - 10s 344ms/step - loss: 0.4422 - accuracy: 0.9396 - val_loss: 0.4446 - val_accuracy: 0.9062\n"
          ],
          "name": "stdout"
        }
      ]
    },
    {
      "cell_type": "code",
      "metadata": {
        "id": "wQr02VxJt6Cs",
        "colab": {
          "base_uri": "https://localhost:8080/"
        },
        "outputId": "441e8f3b-092f-401c-9be5-dc3c13bf6f36"
      },
      "source": [
        "loss, accuracy = model.evaluate(test_data)"
      ],
      "execution_count": 30,
      "outputs": [
        {
          "output_type": "stream",
          "text": [
            "4/4 [==============================] - 3s 234ms/step - loss: 0.4378 - accuracy: 0.9135\n"
          ],
          "name": "stdout"
        }
      ]
    },
    {
      "cell_type": "code",
      "metadata": {
        "id": "Zb-eIzfluCoa",
        "colab": {
          "base_uri": "https://localhost:8080/"
        },
        "outputId": "b4bac2d5-80c5-424c-a7c0-ebdaad130c57"
      },
      "source": [
        "model.export(export_dir='/mm_beans/')"
      ],
      "execution_count": 31,
      "outputs": [
        {
          "output_type": "stream",
          "text": [
            "INFO:tensorflow:Assets written to: /tmp/tmpqh1j4h29/assets\n"
          ],
          "name": "stdout"
        },
        {
          "output_type": "stream",
          "text": [
            "INFO:tensorflow:Assets written to: /tmp/tmpqh1j4h29/assets\n"
          ],
          "name": "stderr"
        },
        {
          "output_type": "stream",
          "text": [
            "INFO:tensorflow:Label file is inside the TFLite model with metadata.\n"
          ],
          "name": "stdout"
        },
        {
          "output_type": "stream",
          "text": [
            "INFO:tensorflow:Label file is inside the TFLite model with metadata.\n"
          ],
          "name": "stderr"
        },
        {
          "output_type": "stream",
          "text": [
            "INFO:tensorflow:Saving labels in /tmp/tmp89eudi5a/labels.txt.\n"
          ],
          "name": "stdout"
        },
        {
          "output_type": "stream",
          "text": [
            "INFO:tensorflow:Saving labels in /tmp/tmp89eudi5a/labels.txt.\n"
          ],
          "name": "stderr"
        }
      ]
    },
    {
      "cell_type": "code",
      "metadata": {
        "id": "4darQMU4vn_R"
      },
      "source": [
        "# For iOS you'll also need the labels, so this will out put them for you\n",
        "model.export(export_dir='/mm_beans/', export_format = [ExportFormat.LABEL])"
      ],
      "execution_count": null,
      "outputs": []
    }
  ]
}