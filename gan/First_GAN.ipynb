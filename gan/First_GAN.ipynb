{
  "nbformat": 4,
  "nbformat_minor": 0,
  "metadata": {
    "colab": {
      "name": "First_GAN.ipynb",
      "provenance": []
    },
    "kernelspec": {
      "name": "python3",
      "display_name": "Python 3"
    },
    "accelerator": "GPU"
  },
  "cells": [
    {
      "cell_type": "code",
      "metadata": {
        "id": "H06EKcnhxLcM"
      },
      "source": [
        "import numpy as np\n",
        "import tensorflow as tf\n",
        "import tensorflow.keras as keras\n",
        "import matplotlib.pyplot as plt"
      ],
      "execution_count": null,
      "outputs": []
    },
    {
      "cell_type": "code",
      "metadata": {
        "id": "91DeiLbpxv5_"
      },
      "source": [
        "def plot_multiple_images(images, n_cols=None):\n",
        "    n_cols = n_cols or len(images)\n",
        "    n_rows = (len(images) - 1) // n_cols + 1\n",
        "    if images.shape[-1] == 1:\n",
        "        images = np.squeeze(images, axis=-1)\n",
        "    plt.figure(figsize=(n_cols, n_rows))\n",
        "    for index, image in enumerate(images):\n",
        "        plt.subplot(n_rows, n_cols, index + 1)\n",
        "        plt.imshow(image, cmap=\"binary\")\n",
        "        plt.axis(\"off\")"
      ],
      "execution_count": null,
      "outputs": []
    },
    {
      "cell_type": "code",
      "metadata": {
        "id": "jl5uWcOMxg8A"
      },
      "source": [
        "(X_train_all, y_train_all), (X_test, y_test) = keras.datasets.mnist.load_data()\n",
        "X_train_all = X_train_all.astype(np.float32) / 255\n",
        "X_test = X_test.astype(np.float32) / 255\n",
        "X_train, X_valid = X_train_all[:-6000], X_train_all[-6000:]\n",
        "y_train, y_valid = y_train_all[:-6000], y_train_all[-6000:]"
      ],
      "execution_count": null,
      "outputs": []
    },
    {
      "cell_type": "code",
      "metadata": {
        "id": "cxnRLKojwkmG"
      },
      "source": [
        "random_normal_dimensions = 32\n",
        "\n",
        "generator = keras.models.Sequential([\n",
        "    keras.layers.Dense(64, activation=\"selu\", input_shape=[random_normal_dimensions]),\n",
        "    keras.layers.Dense(128, activation=\"selu\"),\n",
        "    keras.layers.Dense(28 * 28, activation=\"sigmoid\"),\n",
        "    keras.layers.Reshape([28, 28])\n",
        "])\n",
        "discriminator = keras.models.Sequential([\n",
        "    keras.layers.Flatten(input_shape=[28, 28]),\n",
        "    keras.layers.Dense(128, activation=\"selu\"),\n",
        "    keras.layers.Dense(64, activation=\"selu\"),\n",
        "    keras.layers.Dense(1, activation=\"sigmoid\")\n",
        "])\n",
        "gan = keras.models.Sequential([generator, discriminator])"
      ],
      "execution_count": null,
      "outputs": []
    },
    {
      "cell_type": "code",
      "metadata": {
        "id": "9lKpOq-Cw-r5"
      },
      "source": [
        "discriminator.compile(loss=\"binary_crossentropy\", optimizer=\"rmsprop\")\n",
        "discriminator.trainable = False\n",
        "gan.compile(loss=\"binary_crossentropy\", optimizer=\"rmsprop\")"
      ],
      "execution_count": null,
      "outputs": []
    },
    {
      "cell_type": "code",
      "metadata": {
        "id": "DK_wgrR0xAan"
      },
      "source": [
        "batch_size = 128\n",
        "dataset = tf.data.Dataset.from_tensor_slices(X_train).shuffle(1000)\n",
        "dataset = dataset.batch(batch_size, drop_remainder=True).prefetch(1)"
      ],
      "execution_count": null,
      "outputs": []
    },
    {
      "cell_type": "code",
      "execution_count": null,
      "metadata": {},
      "outputs": [],
      "source": [
        "def train_gan(gan, dataset, batch_size, random_normal_dimensions, n_epochs=50):\n",
        "    generator, discriminator = gan.layers\n",
        "    for epoch in range(n_epochs):\n",
        "        print(\"Epoch {}/{}\".format(epoch + 1, n_epochs))       \n",
        "        for real_images in dataset:\n",
        "            # Train the discriminator - PHASE 1\n",
        "            # Create the noise\n",
        "            noise = tf.random.normal(shape=[batch_size, random_normal_dimensions])\n",
        "            # Use the noise to generate fake images\n",
        "            fake_images = generator(noise)\n",
        "            # Create a list by concatenating the fake images with the real ones\n",
        "            mixed_images = tf.concat([fake_images, real_images], axis=0)\n",
        "            # Create the labels for the discriminator\n",
        "            # 0 for the fake images\n",
        "            # 1 for the real images\n",
        "            discriminator_labels = tf.constant([[0.]] * batch_size + [[1.]] * batch_size)\n",
        "            # Ensure that the discriminator is trainable\n",
        "            discriminator.trainable = True\n",
        "            # Use train_on_batch to train the discriminator with the mixed images and the discriminator labels\n",
        "            discriminator.train_on_batch(mixed_images, discriminator_labels)\n",
        "            # Train the generator - PHASE 2\n",
        "            noise = tf.random.normal(shape=[batch_size, random_normal_dimensions])\n",
        "            generator_labels = tf.constant([[1.]] * batch_size)\n",
        "            # Freeze the discriminator\n",
        "            discriminator.trainable = False\n",
        "            # Train the GAN on the noise with the labels all set to be true\n",
        "            gan.train_on_batch(noise, generator_labels)\n",
        "        plot_multiple_images(fake_images, 8)                     \n",
        "        plt.show()      "
      ]
    },
    {
      "cell_type": "code",
      "metadata": {
        "id": "r1lhjSj0xGL8",
        "outputId": "7bb27ca0-d3e9-4d2f-e338-c1375153a8b2",
        "colab": {
          "base_uri": "https://localhost:8080/",
          "height": 1000
        }
      },
      "source": [
        "train_gan(gan, dataset, batch_size, random_normal_dimensions, n_epochs=20)"
      ],
      "execution_count": null,
      "outputs": []
    }
  ]
}