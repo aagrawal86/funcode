{
  "nbformat": 4,
  "nbformat_minor": 0,
  "metadata": {
    "colab": {
      "name": "SpamCommentsModelMaker.ipynb",
      "provenance": [],
      "collapsed_sections": []
    },
    "kernelspec": {
      "name": "python3",
      "display_name": "Python 3"
    },
    "accelerator": "GPU"
  },
  "cells": [
    {
      "cell_type": "code",
      "metadata": {
        "id": "Awq8sMaIFHJ1"
      },
      "source": [
        "# Install Model maker\n",
        "!pip install -q tflite-model-maker"
      ],
      "execution_count": null,
      "outputs": []
    },
    {
      "cell_type": "code",
      "metadata": {
        "id": "2fEAqoLLF6O9"
      },
      "source": [
        "# Imports and check that we are using TF2.x\n",
        "import numpy as np\n",
        "import os\n",
        "\n",
        "from tflite_model_maker import configs\n",
        "from tflite_model_maker import ExportFormat\n",
        "from tflite_model_maker import model_spec\n",
        "from tflite_model_maker import text_classifier\n",
        "from tflite_model_maker import TextClassifierDataLoader\n",
        "\n",
        "import tensorflow as tf\n",
        "assert tf.__version__.startswith('2')\n",
        "tf.get_logger().setLevel('ERROR')"
      ],
      "execution_count": null,
      "outputs": []
    },
    {
      "cell_type": "code",
      "metadata": {
        "id": "lsuDZvjgREsS"
      },
      "source": [
        "training_data = tf.keras.utils.get_file(fname='cleaned_youtube.csv', origin='https://storage.googleapis.com/laurencemoroney-blog.appspot.com/cleaned_youtube.csv', extract=False)"
      ],
      "execution_count": null,
      "outputs": []
    },
    {
      "cell_type": "code",
      "metadata": {
        "id": "E59qhuMyS-Yd"
      },
      "source": [
        "training_data = os.path.join(os.path.dirname(training_data), 'cleaned_youtube.csv')"
      ],
      "execution_count": null,
      "outputs": []
    },
    {
      "cell_type": "code",
      "metadata": {
        "id": "pbew43TbG9HQ"
      },
      "source": [
        "# Use a model spec from model maker. Options are 'mobilebert_classifier', 'bert_classifier' and 'average_word_vec'\n",
        "# The first 2 use the BERT model, which is accurate, but larger and slower to train\n",
        "# Average Word Vec is kinda like transfer learning where there are pre-trained word weights\n",
        "# and dictionaries\n",
        "spec = model_spec.get('average_word_vec')\n",
        "spec.num_words = 2000\n",
        "spec.seq_len = 20\n",
        "spec.wordvec_dim = 7\n",
        "#spec = model_spec.get('mobilebert_classifier')"
      ],
      "execution_count": null,
      "outputs": []
    },
    {
      "cell_type": "code",
      "metadata": {
        "id": "-WdQmzTKHFVn"
      },
      "source": [
        "# Load the CSV using DataLoader.from_csv to make the training_data\n",
        "train_data = TextClassifierDataLoader.from_csv(\n",
        "      filename=os.path.join(os.path.join(training_data)),\n",
        "      text_column='commenttext', #For Toxicity use \" value_of_text\" (note the leading space)\n",
        "      label_column='spam', #For Toxicity also use \"label\"\n",
        "      model_spec=spec,\n",
        "      delimiter=',',\n",
        "      is_training=True)"
      ],
      "execution_count": null,
      "outputs": []
    },
    {
      "cell_type": "code",
      "metadata": {
        "id": "qThBoIIyG_Du"
      },
      "source": [
        "# Build the model\n",
        "model = text_classifier.create(train_data, model_spec=spec, epochs=100)"
      ],
      "execution_count": null,
      "outputs": []
    },
    {
      "cell_type": "code",
      "metadata": {
        "id": "In-1-rzW-_9b"
      },
      "source": [
        "model.export(export_dir='/mm_spam')\n",
        "# If you want the labels and the vocab, for example for iOS, you can use this\n",
        "model.export(export_dir='/mm_spam/', export_format=[ExportFormat.LABEL, ExportFormat.VOCAB])"
      ],
      "execution_count": null,
      "outputs": []
    },
    {
      "cell_type": "code",
      "metadata": {
        "id": "JWuiOWbR_Omp"
      },
      "source": [
        "# Optionally you can shrink and quantize the model prior to exporting\n",
        "config = configs.QuantizationConfig.create_dynamic_range_quantization(optimizations=[tf.lite.Optimize.OPTIMIZE_FOR_LATENCY])\n",
        "config.experimental_new_quantizer = True\n",
        "model.export(export_dir='/mm_spam/', quantization_config=config)"
      ],
      "execution_count": null,
      "outputs": []
    },
    {
      "cell_type": "code",
      "metadata": {
        "id": "q-eH34EUQ1tR"
      },
      "source": [
        "model.summary()"
      ],
      "execution_count": null,
      "outputs": []
    },
    {
      "cell_type": "code",
      "metadata": {
        "id": "sW5vfrLHTDM8"
      },
      "source": [
        "# Export to TFJS\n",
        "model.export(export_dir=\"/mm_js/\", export_format=[ExportFormat.TFJS, ExportFormat.LABEL, ExportFormat.VOCAB])"
      ],
      "execution_count": null,
      "outputs": []
    }
  ]
}